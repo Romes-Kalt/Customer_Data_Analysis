{
 "cells": [
  {
   "cell_type": "markdown",
   "id": "9f1bcfb0",
   "metadata": {},
   "source": [
    "## TASK\n",
    "\n",
    "It is assumed that the mean systolic blood pressure is μ = 120 mm Hg. In the Honolulu Heart Study, a sample of n = 100 people had an average systolic blood pressure of 130.1 mm Hg with a standard deviation of 21.21 mm Hg. Is the group significantly different (with respect to systolic blood pressure!) from the regular population?\n",
    "\n",
    "Set up the hypothesis test.\n",
    "Write down all the steps followed for setting up the test.\n",
    "Calculate the test statistic by hand and also code it in Python. It should be 4.76190. What decision can you make based on this calculated value?"
   ]
  },
  {
   "cell_type": "markdown",
   "id": "e432c673",
   "metadata": {},
   "source": [
    "**Null Hypothesis**\n",
    "\n",
    "H0: μ = 120 \n",
    "    \n",
    "**Alternative Hypotheis**\n",
    "\n",
    "HA: μ ≠ 120\n",
    "\n",
    "Two Tailed Test\n"
   ]
  },
  {
   "cell_type": "markdown",
   "id": "67d92a69",
   "metadata": {},
   "source": [
    "### Sample"
   ]
  },
  {
   "cell_type": "markdown",
   "id": "2329f093",
   "metadata": {},
   "source": [
    "**Sample Size** n = 100\n",
    "\n",
    "**Average mean** x̄ = 130.1  (mm Hg)\n",
    "\n",
    "**Standard Deviation** S = 21.21 (mm Hg)"
   ]
  },
  {
   "cell_type": "markdown",
   "id": "6b2bee6f",
   "metadata": {},
   "source": [
    "**Mean of population** is unknown, therefore **t-distribution** is used with degree of freedom of n-1."
   ]
  },
  {
   "cell_type": "markdown",
   "id": "ade80767",
   "metadata": {},
   "source": [
    "***"
   ]
  },
  {
   "cell_type": "markdown",
   "id": "ee789bfe",
   "metadata": {},
   "source": [
    "t = (x̄ - μ) / (S / n^0.5) = (130.1 - 120) / (21.21 / 100^0.5) = 4.76190"
   ]
  },
  {
   "cell_type": "code",
   "execution_count": 1,
   "id": "07fb1c47",
   "metadata": {},
   "outputs": [
    {
     "name": "stdout",
     "output_type": "stream",
     "text": [
      "4.7619\n"
     ]
    }
   ],
   "source": [
    "xbar = 130.1\n",
    "mu = 120\n",
    "S = 21.21 \n",
    "n = 100\n",
    "\n",
    "t = (xbar - mu) / (S / n**0.5)\n",
    "\n",
    "print(round(t, 4))"
   ]
  },
  {
   "cell_type": "markdown",
   "id": "2687b54a",
   "metadata": {},
   "source": [
    "### Hypothesis Test"
   ]
  },
  {
   "cell_type": "code",
   "execution_count": 2,
   "id": "f0d4f8ff",
   "metadata": {},
   "outputs": [
    {
     "name": "stdout",
     "output_type": "stream",
     "text": [
      "-1.9842\n"
     ]
    }
   ],
   "source": [
    "from scipy import stats\n",
    "tc = +-stats.t.ppf(1-(0.05/2),df=99)\n",
    "print(round(tc, 4))"
   ]
  },
  {
   "cell_type": "markdown",
   "id": "dfd5f35a",
   "metadata": {},
   "source": [
    "With α = 0.05, t should be within -t(0.0025,99) ≤ t ≤ +t(0.0025,99) → -1.9842 ≤ 4.7619 ≤ 1.9842.<br>\n",
    "This formula is not true, therefore H0 is **rejected**, the mean systolic blood pressure is **not** μ = 120 mm Hg."
   ]
  }
 ],
 "metadata": {
  "kernelspec": {
   "display_name": "Python 3 (ipykernel)",
   "language": "python",
   "name": "python3"
  },
  "language_info": {
   "codemirror_mode": {
    "name": "ipython",
    "version": 3
   },
   "file_extension": ".py",
   "mimetype": "text/x-python",
   "name": "python",
   "nbconvert_exporter": "python",
   "pygments_lexer": "ipython3",
   "version": "3.9.7"
  },
  "toc": {
   "base_numbering": 1,
   "nav_menu": {},
   "number_sections": false,
   "sideBar": true,
   "skip_h1_title": false,
   "title_cell": "Table of Contents",
   "title_sidebar": "Contents",
   "toc_cell": false,
   "toc_position": {},
   "toc_section_display": true,
   "toc_window_display": true
  },
  "varInspector": {
   "cols": {
    "lenName": 16,
    "lenType": 16,
    "lenVar": 40
   },
   "kernels_config": {
    "python": {
     "delete_cmd_postfix": "",
     "delete_cmd_prefix": "del ",
     "library": "var_list.py",
     "varRefreshCmd": "print(var_dic_list())"
    },
    "r": {
     "delete_cmd_postfix": ") ",
     "delete_cmd_prefix": "rm(",
     "library": "var_list.r",
     "varRefreshCmd": "cat(var_dic_list()) "
    }
   },
   "types_to_exclude": [
    "module",
    "function",
    "builtin_function_or_method",
    "instance",
    "_Feature"
   ],
   "window_display": false
  }
 },
 "nbformat": 4,
 "nbformat_minor": 5
}
