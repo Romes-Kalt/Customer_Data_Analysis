{
 "cells": [
  {
   "cell_type": "code",
   "execution_count": 1,
   "id": "7a8f1898",
   "metadata": {},
   "outputs": [],
   "source": [
    "import numpy as np\n",
    "import pandas as pd\n",
    "from pandas.api.types import is_numeric_dtype\n",
    "import math\n",
    "import matplotlib.pyplot as plt\n",
    "%matplotlib inline\n",
    "import seaborn as sns\n"
   ]
  },
  {
   "cell_type": "code",
   "execution_count": 14,
   "id": "b028120b",
   "metadata": {},
   "outputs": [],
   "source": [
    "def split_df_by(this_df, include_dtypes:[list]=[\"int\",\"float\"]):\n",
    "    \"\"\"takes in this_df, splits it into two NEW DF's by dtype of columns (default [\"int\",\"float\"]) \n",
    "       and returns tuple (incl_df, excl_df)\"\"\"\n",
    "    incl_lst = [_ for _ in this_df.select_dtypes(include=include_dtypes).dtypes.index]\n",
    "    excl_lst = [_ for _ in this_df.select_dtypes(exclude=include_dtypes).dtypes.index]\n",
    "    return (this_df[incl_lst], this_df[excl_lst])"
   ]
  },
  {
   "cell_type": "code",
   "execution_count": 15,
   "id": "94e81014",
   "metadata": {},
   "outputs": [],
   "source": [
    "def split_column_names_by(this_df, include_dtypes:[list]=[\"int\",\"float\"]):\n",
    "    \"\"\"takes in this_df, splits this_df's columns into two lists of column name by dtype of columns (default [\"int\",\"float\"]) \n",
    "       and returns tuple (incl_lst, excl_lst)\"\"\"\n",
    "    incl_lst = [_ for _ in this_df.select_dtypes(include=include_dtypes).dtypes.index]\n",
    "    excl_lst = [_ for _ in this_df.select_dtypes(exclude=include_dtypes).dtypes.index]\n",
    "    return (incl_lst, excl_lst)"
   ]
  },
  {
   "cell_type": "code",
   "execution_count": 16,
   "id": "7c486907",
   "metadata": {},
   "outputs": [],
   "source": [
    "def plot_rate_by(this_df, group_by_what:[str] = None, rate_by:[str] = None, num_bins:[int] = 5):\n",
    "    \"\"\"plots two columns against each other with bar plots (2 categorical columns) or count plot (numerical vs categorical),\n",
    "       num_bin adjusts number of bin if numerical bin is used as group_by_what value (create categorical values)\"\"\"\n",
    "    if this_df is None:\n",
    "        return \"DataFrame is empty\"\n",
    "    \n",
    "    if group_by_what in this_df.columns and rate_by in this_df.columns:\n",
    "        fig, ax = plt.subplots(figsize = (12,8))\n",
    "        ax.set_title(f\"{group_by_what.capitalize().replace('_', ' ')} by {rate_by.capitalize().replace('_', ' ')}\", size=\"18\", fontweight=\"bold\")\n",
    "        if group_by_what in split_df_in_numeric_categ_dfs(this_df)[1]:\n",
    "            groupby_df = pd.DataFrame({'count':this_df.groupby([group_by_what,rate_by]).size()}).reset_index()\n",
    "            sns.barplot(x=groupby_df[group_by_what],y=groupby_df[\"count\"], hue=groupby_df[rate_by], ax=ax, palette=\"YlOrRd\")\n",
    "        else:\n",
    "            bin_limits = np.linspace(np.min(this_df[group_by_what]),np.max(this_df[group_by_what]),num_bins)\n",
    "            bin_labels = [f\" ≤ {_}\" for _ in np.round(bin_limits, 2)[1:len(bin_limits)]]\n",
    "            num_bins = pd.cut(this_df[group_by_what],bins=bin_limits,labels=bin_labels)#[\"low\",\"medium low\",\"medium high\",\"high\"])\n",
    "            sns.countplot(x = num_bins,y = None, hue=this_df[rate_by], palette=\"YlOrRd\")\n",
    "            if len(num_bins) > 7:\n",
    "                plt.xticks(rotation=60)\n",
    "        plt.legend(loc=\"upper right\")\n",
    "    else:\n",
    "        return \"check column names\""
   ]
  },
  {
   "cell_type": "code",
   "execution_count": 77,
   "id": "43d67887",
   "metadata": {},
   "outputs": [],
   "source": [
    "def plot_rate_by2(this_df, group_by_what:[str] = None, rate_by:[str] = None, group_bins:[int] = 4, rate_bins:[int] = 4):\n",
    "    \"\"\"plots two columns of this_df against each other with bar plots (2 categorical columns) or count plot (numerical vs categorical),\n",
    "       num_bin adjusts number of bin if numerical bin is used as group_by_what value (create categorical values)\"\"\"\n",
    "    \n",
    "    if this_df is None:\n",
    "        return \"DataFrame is empty\"\n",
    "    \n",
    "    # catch errors\n",
    "    if group_bins < 1:\n",
    "        group_bins = 1\n",
    "    if rate_bins < 1:\n",
    "        rate_bins = 1\n",
    "    \n",
    "    if group_by_what in split_column_names_by(this_df)[0]:  # group_by_what is numerical\n",
    "        bin_limits = np.linspace(np.min(this_df[group_by_what]),np.max(this_df[group_by_what]),group_bins+1)\n",
    "        bin_labels = [f\" ≤ {_}\" for _ in np.round(bin_limits, 2)[1:len(bin_limits)]]\n",
    "        groupby_ser = pd.cut(this_df[group_by_what],bins=bin_limits,labels=bin_labels)\n",
    "    elif group_by_what in split_column_names_by(this_df)[1]: # group_by_what is categorical\n",
    "        groupby_ser = this_df[group_by_what].sort_values()\n",
    "    else:\n",
    "        return \"check group_by_what value\"\n",
    "            \n",
    "    if rate_by in split_column_names_by(this_df)[0]:        # group_by_what is categorical\n",
    "        bin_limits = np.linspace(np.min(this_df[rate_by]),np.max(this_df[rate_by]),rate_bins+1)\n",
    "        bin_labels = [f\" ≤ {_}\" for _ in np.round(bin_limits, 2)[1:len(bin_limits)]]\n",
    "        rateby_ser = pd.cut(this_df[rate_by],bins=bin_limits,labels=bin_labels)\n",
    "    elif rate_by in split_column_names_by(this_df)[1]: # group_by_what is categorical\n",
    "        rateby_ser = this_df[rate_by].sort_values()\n",
    "    else:\n",
    "        return \"check rate_by value\"\n",
    "\n",
    "    fig, ax = plt.subplots(figsize = (12,8))\n",
    "    ax.set_title(f\"{group_by_what.capitalize().replace('_', ' ')} by {rate_by.capitalize().replace('_', ' ')}\", size=\"18\", fontweight=\"bold\")\n",
    "                                 #     ↳ reformat column names, 1st letter uppercase and _ replaced by space\n",
    "    sns.countplot(x = groupby_ser,y = None, hue=rateby_ser, palette=\"YlOrRd\")\n",
    "    plt.show()"
   ]
  },
  {
   "cell_type": "code",
   "execution_count": 78,
   "id": "8b641a53",
   "metadata": {},
   "outputs": [
    {
     "data": {
      "image/png": "[encoded data removed]",
      "text/plain": [
       "<Figure size 864x576 with 1 Axes>"
      ]
     },
     "metadata": {
      "needs_background": "light"
     },
     "output_type": "display_data"
    }
   ],
   "source": [
    "plot_rate_by2(raw_df, group_by_what=\"Response\", rate_by=\"Sales Channel\", group_bins=2, rate_bins=2)"
   ]
  },
  {
   "cell_type": "code",
   "execution_count": null,
   "id": "ff1332ad",
   "metadata": {},
   "outputs": [],
   "source": []
  },
  {
   "cell_type": "code",
   "execution_count": null,
   "id": "e779436d",
   "metadata": {},
   "outputs": [],
   "source": []
  },
  {
   "cell_type": "code",
   "execution_count": null,
   "id": "73977a6a",
   "metadata": {},
   "outputs": [],
   "source": []
  },
  {
   "cell_type": "code",
   "execution_count": null,
   "id": "64501dc8",
   "metadata": {},
   "outputs": [],
   "source": []
  },
  {
   "cell_type": "code",
   "execution_count": 2,
   "id": "a0bdf16b",
   "metadata": {},
   "outputs": [],
   "source": [
    "raw_df = pd.read_csv(\"C:/Users/roman/Documents/GitHub/Customer_Data_Analysis/Data/Data_Marketing_Customer_Analysis_Round2.csv\")"
   ]
  },
  {
   "cell_type": "code",
   "execution_count": 3,
   "id": "77a6a7d4",
   "metadata": {},
   "outputs": [
    {
     "name": "stdout",
     "output_type": "stream",
     "text": [
      "<class 'pandas.core.frame.DataFrame'>\n",
      "RangeIndex: 10910 entries, 0 to 10909\n",
      "Data columns (total 26 columns):\n",
      " #   Column                         Non-Null Count  Dtype  \n",
      "---  ------                         --------------  -----  \n",
      " 0   Unnamed: 0                     10910 non-null  int64  \n",
      " 1   Customer                       10910 non-null  object \n",
      " 2   State                          10279 non-null  object \n",
      " 3   Customer Lifetime Value        10910 non-null  float64\n",
      " 4   Response                       10279 non-null  object \n",
      " 5   Coverage                       10910 non-null  object \n",
      " 6   Education                      10910 non-null  object \n",
      " 7   Effective To Date              10910 non-null  object \n",
      " 8   EmploymentStatus               10910 non-null  object \n",
      " 9   Gender                         10910 non-null  object \n",
      " 10  Income                         10910 non-null  int64  \n",
      " 11  Location Code                  10910 non-null  object \n",
      " 12  Marital Status                 10910 non-null  object \n",
      " 13  Monthly Premium Auto           10910 non-null  int64  \n",
      " 14  Months Since Last Claim        10277 non-null  float64\n",
      " 15  Months Since Policy Inception  10910 non-null  int64  \n",
      " 16  Number of Open Complaints      10277 non-null  float64\n",
      " 17  Number of Policies             10910 non-null  int64  \n",
      " 18  Policy Type                    10910 non-null  object \n",
      " 19  Policy                         10910 non-null  object \n",
      " 20  Renew Offer Type               10910 non-null  object \n",
      " 21  Sales Channel                  10910 non-null  object \n",
      " 22  Total Claim Amount             10910 non-null  float64\n",
      " 23  Vehicle Class                  10288 non-null  object \n",
      " 24  Vehicle Size                   10288 non-null  object \n",
      " 25  Vehicle Type                   5428 non-null   object \n",
      "dtypes: float64(4), int64(5), object(17)\n",
      "memory usage: 2.2+ MB\n"
     ]
    }
   ],
   "source": [
    "raw_df.info()"
   ]
  },
  {
   "cell_type": "code",
   "execution_count": null,
   "id": "b26f8b1d",
   "metadata": {},
   "outputs": [],
   "source": []
  }
 ],
 "metadata": {
  "kernelspec": {
   "display_name": "Python 3 (ipykernel)",
   "language": "python",
   "name": "python3"
  },
  "language_info": {
   "codemirror_mode": {
    "name": "ipython",
    "version": 3
   },
   "file_extension": ".py",
   "mimetype": "text/x-python",
   "name": "python",
   "nbconvert_exporter": "python",
   "pygments_lexer": "ipython3",
   "version": "3.9.7"
  },
  "toc": {
   "base_numbering": 1,
   "nav_menu": {},
   "number_sections": true,
   "sideBar": true,
   "skip_h1_title": false,
   "title_cell": "Table of Contents",
   "title_sidebar": "Contents",
   "toc_cell": false,
   "toc_position": {},
   "toc_section_display": true,
   "toc_window_display": false
  },
  "varInspector": {
   "cols": {
    "lenName": 16,
    "lenType": 16,
    "lenVar": 40
   },
   "kernels_config": {
    "python": {
     "delete_cmd_postfix": "",
     "delete_cmd_prefix": "del ",
     "library": "var_list.py",
     "varRefreshCmd": "print(var_dic_list())"
    },
    "r": {
     "delete_cmd_postfix": ") ",
     "delete_cmd_prefix": "rm(",
     "library": "var_list.r",
     "varRefreshCmd": "cat(var_dic_list()) "
    }
   },
   "types_to_exclude": [
    "module",
    "function",
    "builtin_function_or_method",
    "instance",
    "_Feature"
   ],
   "window_display": false
  }
 },
 "nbformat": 4,
 "nbformat_minor": 5
}
