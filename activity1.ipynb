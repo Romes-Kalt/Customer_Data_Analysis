{
 "cells": [
  {
   "cell_type": "code",
   "execution_count": 172,
   "id": "7da44ea9",
   "metadata": {},
   "outputs": [],
   "source": [
    "import numpy as np\n",
    "import pandas as pd\n",
    "import matplotlib.pyplot as plt\n",
    "%matplotlib inline\n",
    "import seaborn as sns\n",
    "# from sklearn.preprocessing import StandardScaler\n",
    "# from sklearn.preprocessing import minmax_scale\n",
    "# from sklearn.preprocessing import OneHotEncoder\n",
    "# from sklearn.linear_model import LinearRegression\n",
    "# from sklearn.model_selection import train_test_split\n",
    "# from sklearn.preprocessing import PowerTransformer\n",
    "# from sklearn.linear_model import LinearRegression\n",
    "# import statsmodels.api as sm\n",
    "# from scipy.stats import boxcox\n",
    "# from sklearn.model_selection import train_test_split\n",
    "# from sklearn.metrics import r2_score\n",
    "# from sklearn.metrics import mean_squared_error as mse\n",
    "# from sklearn.metrics import mean_absolute_error as mae\n",
    "pd.options.display.max_rows = 50\n",
    "import openpyxl\n",
    "import xlrd\n"
   ]
  },
  {
   "cell_type": "code",
   "execution_count": 173,
   "id": "455bc579",
   "metadata": {},
   "outputs": [],
   "source": [
    "def st_to_state(this_df):\n",
    "    \"\"\"checks, if there is a column named ST and changes it to state\"\"\"\n",
    "    if \"ST\" in list(this_df.columns) or \"State\" in list(this_df.columns):\n",
    "        this_df.rename(columns={\"ST\":\"state\", \"State\":\"state\"}, inplace=True)\n",
    "    return this_df"
   ]
  },
  {
   "cell_type": "code",
   "execution_count": 174,
   "id": "00f2ced5",
   "metadata": {},
   "outputs": [],
   "source": [
    "def lowercase_underscore_column_names(this_df):\n",
    "    \"\"\"changes all columnnames to underscore and replace space with underscore\"\"\"\n",
    "    for col in this_df.columns:\n",
    "        this_df.rename(columns={col:col.lower().replace(\" \", \"_\")}, inplace=True)\n",
    "    return this_df"
   ]
  },
  {
   "cell_type": "code",
   "execution_count": 175,
   "id": "71e439b2",
   "metadata": {},
   "outputs": [],
   "source": [
    "def gender_generalize(gender:[str]):\n",
    "    \"\"\"changes the genders to female if f in str, else male. if gender = nan returns ---\"\"\"\n",
    "    if type(gender) != str:\n",
    "        return \"---\"\n",
    "    if \"f\" in gender.lower():\n",
    "        return \"female\"\n",
    "    else:\n",
    "        return \"male\""
   ]
  },
  {
   "cell_type": "code",
   "execution_count": 176,
   "id": "9f73ae8a",
   "metadata": {},
   "outputs": [],
   "source": [
    "def correct_open_complaints(value):\n",
    "    \"\"\"the number of open complaints has in some cases the structure 1/0/00, where only the middle number is interesting.\n",
    "       if value has this format, only the middle value is returned as int\"\"\"\n",
    "    if \"/\" in str(value):\n",
    "        return int(value.split(\"/\")[1])\n",
    "    else:\n",
    "        return int(value)"
   ]
  },
  {
   "cell_type": "code",
   "execution_count": 177,
   "id": "d92e96e5",
   "metadata": {},
   "outputs": [],
   "source": [
    "def clean_cust_lifetime_value(value):\n",
    "    \"\"\"takes a value and checks, whether a % sign is in it, in that case returns \"\"\"\n",
    "    if \"%\" in str(value):\n",
    "        return float(value.replace(\"%\",\"\"))/100\n",
    "    else:\n",
    "        return float(value)"
   ]
  },
  {
   "cell_type": "code",
   "execution_count": 178,
   "id": "f72b9aae",
   "metadata": {},
   "outputs": [],
   "source": [
    "# https://www.50states.com/abbreviations.htm\n",
    "def states_to_zones_flex(state:[str]):\n",
    "    \"\"\"takes state in str format and returns zone according to zones_dict\"\"\"\n",
    "    # add / change as required\n",
    "    zones_dict = {\n",
    "        \"east\": [\"wa\", \"washington\"],\n",
    "        \"central\": [\"nevada\", \"arizona\", \"nv\", \"az\"],\n",
    "        \"west\": [\"california\", \"cali\", \"ca\"],\n",
    "        \"northwest\": [\"oregon\", \"oreg\", \"or\"],\n",
    "    }\n",
    "    state = state.lower()\n",
    "    for zone in zones_dict.items():\n",
    "        if state in zone[1]:\n",
    "            return zone[0]\n",
    "    return None"
   ]
  },
  {
   "cell_type": "code",
   "execution_count": 179,
   "id": "ef7fa10b",
   "metadata": {},
   "outputs": [],
   "source": [
    "def float_to_int(x):\n",
    "    \"\"\"returns int of x or nan if x == nan\"\"\"\n",
    "#     if str(x).lower() != \"nan\":\n",
    "#         return int(float(x))\n",
    "#     else:\n",
    "#         return \"nan\"\n",
    "    return int(x)"
   ]
  },
  {
   "cell_type": "code",
   "execution_count": 215,
   "id": "07f0472e",
   "metadata": {},
   "outputs": [],
   "source": [
    "def display_cat_num_columns(this_df):\n",
    "    print(\"Numerical columns in DataFrame: \")\n",
    "    for _ in list((combined_df.select_dtypes(include=['int','float']).dtypes).index):\n",
    "        print(\" +\",_)\n",
    "    print(\"\\nCategorical columns in DataFrame:\")\n",
    "    for _ in list((combined_df.select_dtypes(exclude=['int','float']).dtypes).index):\n",
    "        print(\" +\",_)\n"
   ]
  },
  {
   "cell_type": "code",
   "execution_count": null,
   "id": "2d7bcc5f",
   "metadata": {},
   "outputs": [],
   "source": []
  },
  {
   "cell_type": "code",
   "execution_count": 181,
   "id": "9de6da56",
   "metadata": {},
   "outputs": [],
   "source": [
    "def replace_nan_with_mean(col):\n",
    "    col.fillna(np.mean(col))\n",
    "    "
   ]
  },
  {
   "cell_type": "code",
   "execution_count": 182,
   "id": "3690a0a3",
   "metadata": {},
   "outputs": [],
   "source": [
    "# helper function, no real purpose\n",
    "def all_columns_in_file1_to_3():\n",
    "    \"\"\"ONLY FOR THIS PROJECT: sort and print all columns next to each other to see difference in the names.\n",
    "       Print True or False if set(all_columns) == set(file1_df.columns)\"\"\"\n",
    "    all_columns = sorted(file1_df.columns) + sorted(file2_df.columns) + sorted(file3_df.columns)\n",
    "    for _ in range(0,11):\n",
    "        print(all_columns[_], all_columns[_+11], all_columns[_+22])\n",
    "    print(\"\\nThe length of the set(all_columns) is equal to length of columns in one df:\",len(set(all_columns))==len(file1_df.columns))"
   ]
  },
  {
   "cell_type": "code",
   "execution_count": 234,
   "id": "4c3cd6f6",
   "metadata": {},
   "outputs": [],
   "source": [
    "file1_df = pd.read_csv(\"C:/Users/roman/Documents/GitHub/Customer_Data_Analysis/Data/file1.csv\")\n",
    "# file1_df"
   ]
  },
  {
   "cell_type": "code",
   "execution_count": 235,
   "id": "1b8c8750",
   "metadata": {},
   "outputs": [],
   "source": [
    "file2_df = pd.read_csv(\"C:/Users/roman/Documents/GitHub/Customer_Data_Analysis/Data/file2.csv\")\n",
    "# file2_df"
   ]
  },
  {
   "cell_type": "code",
   "execution_count": 236,
   "id": "401f02e8",
   "metadata": {},
   "outputs": [],
   "source": [
    "file3_df = pd.read_csv(\"C:/Users/roman/Documents/GitHub/Customer_Data_Analysis/Data/file3.csv\")\n",
    "# file3_df"
   ]
  },
  {
   "cell_type": "code",
   "execution_count": 237,
   "id": "2293e7e4",
   "metadata": {},
   "outputs": [
    {
     "name": "stdout",
     "output_type": "stream",
     "text": [
      "Customer Customer Customer\n",
      "Customer Lifetime Value Customer Lifetime Value Customer Lifetime Value\n",
      "Education Education Education\n",
      "GENDER GENDER Gender\n",
      "Income Income Income\n",
      "Monthly Premium Auto Monthly Premium Auto Monthly Premium Auto\n",
      "Number of Open Complaints Number of Open Complaints Number of Open Complaints\n",
      "Policy Type Policy Type Policy Type\n",
      "ST ST State\n",
      "Total Claim Amount Total Claim Amount Total Claim Amount\n",
      "Vehicle Class Vehicle Class Vehicle Class\n",
      "\n",
      "The length of the set(all_columns) is equal to length of columns in one df: False\n"
     ]
    }
   ],
   "source": [
    "# gathering info on columns\n",
    "all_columns_in_file1_to_3()"
   ]
  },
  {
   "cell_type": "code",
   "execution_count": 238,
   "id": "799a4ed3",
   "metadata": {},
   "outputs": [],
   "source": [
    "# change st to state if applicable\n",
    "file1_df = st_to_state(file1_df)\n",
    "file2_df = st_to_state(file2_df)\n",
    "file3_df = st_to_state(file3_df)\n"
   ]
  },
  {
   "cell_type": "code",
   "execution_count": 239,
   "id": "fead184b",
   "metadata": {},
   "outputs": [],
   "source": [
    "# replace space with underscore and use only lower case\n",
    "file1_df = lowercase_underscore_column_names(file1_df)\n",
    "file2_df = lowercase_underscore_column_names(file2_df)\n",
    "file3_df = lowercase_underscore_column_names(file3_df)"
   ]
  },
  {
   "cell_type": "code",
   "execution_count": 240,
   "id": "da956bf1",
   "metadata": {},
   "outputs": [
    {
     "name": "stdout",
     "output_type": "stream",
     "text": [
      "customer customer customer\n",
      "customer_lifetime_value customer_lifetime_value customer_lifetime_value\n",
      "education education education\n",
      "gender gender gender\n",
      "income income income\n",
      "monthly_premium_auto monthly_premium_auto monthly_premium_auto\n",
      "number_of_open_complaints number_of_open_complaints number_of_open_complaints\n",
      "policy_type policy_type policy_type\n",
      "state state state\n",
      "total_claim_amount total_claim_amount total_claim_amount\n",
      "vehicle_class vehicle_class vehicle_class\n",
      "\n",
      "The length of the set(all_columns) is equal to length of columns in one df: True\n"
     ]
    }
   ],
   "source": [
    "# checking for inacurracies\n",
    "all_columns_in_file1_to_3()"
   ]
  },
  {
   "cell_type": "code",
   "execution_count": 241,
   "id": "ef12b83c",
   "metadata": {},
   "outputs": [],
   "source": [
    "# combine all file_df's, delete empty rows and drop duplicates\n",
    "combined_df = pd.concat([file1_df,file2_df,file3_df], axis=0)\n",
    "combined_df.dropna(axis = 0, how = 'all', inplace = True)      # delete empty rows\n",
    "combined_df.drop_duplicates(inplace=True)     \n",
    "# combined_df.drop(columns=[\"customer\"], inplace=True)\n",
    "# combined_df"
   ]
  },
  {
   "cell_type": "code",
   "execution_count": 242,
   "id": "2904e57c",
   "metadata": {},
   "outputs": [],
   "source": [
    "# re-arrange column order (\"drop\" customer)\n",
    "combined_df = combined_df[[\"customer_lifetime_value\", \"monthly_premium_auto\", \"total_claim_amount\", \"number_of_open_complaints\", \"income\", \"policy_type\", \"vehicle_class\", \"gender\", \"education\", \"state\"]]"
   ]
  },
  {
   "cell_type": "code",
   "execution_count": 243,
   "id": "e589fcc1",
   "metadata": {},
   "outputs": [],
   "source": [
    "# change gender to female / male / ---\n",
    "combined_df[\"gender\"] = list(map(gender_generalize,combined_df[\"gender\"]))\n"
   ]
  },
  {
   "cell_type": "code",
   "execution_count": 244,
   "id": "25c98d11",
   "metadata": {},
   "outputs": [],
   "source": [
    "# clean cls from %\n",
    "combined_df[\"customer_lifetime_value\"] = list(map(clean_cust_lifetime_value,(combined_df[\"customer_lifetime_value\"])))"
   ]
  },
  {
   "cell_type": "code",
   "execution_count": 245,
   "id": "f1b35a26",
   "metadata": {},
   "outputs": [
    {
     "name": "stdout",
     "output_type": "stream",
     "text": [
      "CLV: 7\n",
      "Income: 0\n",
      "Monthly Premium Auto 0\n",
      "total_claim_amount: 0\n"
     ]
    }
   ],
   "source": [
    "# check NaN is\n",
    "print(\"CLV:\", combined_df[\"customer_lifetime_value\"].isna().sum())\n",
    "print(\"Income:\", combined_df[\"income\"].isna().sum())\n",
    "print(\"Monthly Premium Auto\", combined_df[\"monthly_premium_auto\"].isna().sum())\n",
    "print(\"total_claim_amount:\", combined_df[\"total_claim_amount\"].isna().sum())\n"
   ]
  },
  {
   "cell_type": "code",
   "execution_count": 246,
   "id": "2b2e69f9",
   "metadata": {},
   "outputs": [],
   "source": [
    "# replace NaN in respective columns\n",
    "combined_df[\"customer_lifetime_value\"].fillna(np.mean(combined_df[\"customer_lifetime_value\"]), inplace=True)\n",
    "combined_df[\"income\"].fillna(np.mean(combined_df[\"income\"]), inplace=True)\n",
    "combined_df[\"monthly_premium_auto\"].fillna(np.mean(combined_df[\"monthly_premium_auto\"]), inplace=True)\n",
    "combined_df[\"total_claim_amount\"].fillna(np.mean(combined_df[\"total_claim_amount\"]), inplace=True)\n"
   ]
  },
  {
   "cell_type": "code",
   "execution_count": 247,
   "id": "c1b9450e",
   "metadata": {},
   "outputs": [],
   "source": [
    "# correct number of open complaints and make column categorical\n",
    "combined_df[\"number_of_open_complaints\"] = list(map(correct_open_complaints,(combined_df[\"number_of_open_complaints\"])))\n",
    "combined_df[\"number_of_open_complaints\"] = combined_df[\"number_of_open_complaints\"].astype(\"category\")"
   ]
  },
  {
   "cell_type": "code",
   "execution_count": 248,
   "id": "ff56f442",
   "metadata": {},
   "outputs": [],
   "source": [
    "# create new column zones according to state\n",
    "combined_df[\"zones\"] = list(map(states_to_zones_flex,(combined_df[\"state\"])))"
   ]
  },
  {
   "cell_type": "code",
   "execution_count": 249,
   "id": "4beb2399",
   "metadata": {},
   "outputs": [],
   "source": [
    "# change all numeric values to int\n",
    "combined_df[\"customer_lifetime_value\"] = combined_df[\"customer_lifetime_value\"].astype(np.int64)\n",
    "combined_df[\"income\"] = combined_df[\"income\"].astype(np.int64)\n",
    "combined_df[\"monthly_premium_auto\"] = combined_df[\"monthly_premium_auto\"].astype(np.int64)\n",
    "combined_df[\"total_claim_amount\"] = combined_df[\"total_claim_amount\"].astype(np.int64)"
   ]
  },
  {
   "cell_type": "code",
   "execution_count": 250,
   "id": "1ce98eda",
   "metadata": {},
   "outputs": [],
   "source": [
    "# all lower strings in df\n",
    "combined_df = combined_df.apply(lambda x: x if type(x)==str else x)"
   ]
  },
  {
   "cell_type": "code",
   "execution_count": 251,
   "id": "e01583aa",
   "metadata": {},
   "outputs": [
    {
     "data": {
      "text/html": [
       "<div>\n",
       "<style scoped>\n",
       "    .dataframe tbody tr th:only-of-type {\n",
       "        vertical-align: middle;\n",
       "    }\n",
       "\n",
       "    .dataframe tbody tr th {\n",
       "        vertical-align: top;\n",
       "    }\n",
       "\n",
       "    .dataframe thead th {\n",
       "        text-align: right;\n",
       "    }\n",
       "</style>\n",
       "<table border=\"1\" class=\"dataframe\">\n",
       "  <thead>\n",
       "    <tr style=\"text-align: right;\">\n",
       "      <th></th>\n",
       "      <th>customer_lifetime_value</th>\n",
       "      <th>monthly_premium_auto</th>\n",
       "      <th>total_claim_amount</th>\n",
       "      <th>number_of_open_complaints</th>\n",
       "      <th>income</th>\n",
       "      <th>policy_type</th>\n",
       "      <th>vehicle_class</th>\n",
       "      <th>gender</th>\n",
       "      <th>education</th>\n",
       "      <th>state</th>\n",
       "      <th>zones</th>\n",
       "    </tr>\n",
       "  </thead>\n",
       "  <tbody>\n",
       "    <tr>\n",
       "      <th>0</th>\n",
       "      <td>7977</td>\n",
       "      <td>1000</td>\n",
       "      <td>2</td>\n",
       "      <td>0</td>\n",
       "      <td>0</td>\n",
       "      <td>Personal Auto</td>\n",
       "      <td>Four-Door Car</td>\n",
       "      <td>---</td>\n",
       "      <td>Master</td>\n",
       "      <td>Washington</td>\n",
       "      <td>east</td>\n",
       "    </tr>\n",
       "    <tr>\n",
       "      <th>1</th>\n",
       "      <td>6979</td>\n",
       "      <td>94</td>\n",
       "      <td>1131</td>\n",
       "      <td>0</td>\n",
       "      <td>0</td>\n",
       "      <td>Personal Auto</td>\n",
       "      <td>Four-Door Car</td>\n",
       "      <td>female</td>\n",
       "      <td>Bachelor</td>\n",
       "      <td>Arizona</td>\n",
       "      <td>central</td>\n",
       "    </tr>\n",
       "    <tr>\n",
       "      <th>2</th>\n",
       "      <td>12887</td>\n",
       "      <td>108</td>\n",
       "      <td>566</td>\n",
       "      <td>0</td>\n",
       "      <td>48767</td>\n",
       "      <td>Personal Auto</td>\n",
       "      <td>Two-Door Car</td>\n",
       "      <td>female</td>\n",
       "      <td>Bachelor</td>\n",
       "      <td>Nevada</td>\n",
       "      <td>central</td>\n",
       "    </tr>\n",
       "    <tr>\n",
       "      <th>3</th>\n",
       "      <td>7645</td>\n",
       "      <td>106</td>\n",
       "      <td>529</td>\n",
       "      <td>0</td>\n",
       "      <td>0</td>\n",
       "      <td>Corporate Auto</td>\n",
       "      <td>SUV</td>\n",
       "      <td>male</td>\n",
       "      <td>Bachelor</td>\n",
       "      <td>California</td>\n",
       "      <td>west</td>\n",
       "    </tr>\n",
       "    <tr>\n",
       "      <th>4</th>\n",
       "      <td>5363</td>\n",
       "      <td>68</td>\n",
       "      <td>17</td>\n",
       "      <td>0</td>\n",
       "      <td>36357</td>\n",
       "      <td>Personal Auto</td>\n",
       "      <td>Four-Door Car</td>\n",
       "      <td>male</td>\n",
       "      <td>High School or Below</td>\n",
       "      <td>Washington</td>\n",
       "      <td>east</td>\n",
       "    </tr>\n",
       "    <tr>\n",
       "      <th>...</th>\n",
       "      <td>...</td>\n",
       "      <td>...</td>\n",
       "      <td>...</td>\n",
       "      <td>...</td>\n",
       "      <td>...</td>\n",
       "      <td>...</td>\n",
       "      <td>...</td>\n",
       "      <td>...</td>\n",
       "      <td>...</td>\n",
       "      <td>...</td>\n",
       "      <td>...</td>\n",
       "    </tr>\n",
       "    <tr>\n",
       "      <th>7065</th>\n",
       "      <td>23405</td>\n",
       "      <td>73</td>\n",
       "      <td>198</td>\n",
       "      <td>0</td>\n",
       "      <td>71941</td>\n",
       "      <td>Personal Auto</td>\n",
       "      <td>Four-Door Car</td>\n",
       "      <td>male</td>\n",
       "      <td>Bachelor</td>\n",
       "      <td>California</td>\n",
       "      <td>west</td>\n",
       "    </tr>\n",
       "    <tr>\n",
       "      <th>7066</th>\n",
       "      <td>3096</td>\n",
       "      <td>79</td>\n",
       "      <td>379</td>\n",
       "      <td>0</td>\n",
       "      <td>21604</td>\n",
       "      <td>Corporate Auto</td>\n",
       "      <td>Four-Door Car</td>\n",
       "      <td>female</td>\n",
       "      <td>College</td>\n",
       "      <td>California</td>\n",
       "      <td>west</td>\n",
       "    </tr>\n",
       "    <tr>\n",
       "      <th>7067</th>\n",
       "      <td>8163</td>\n",
       "      <td>85</td>\n",
       "      <td>790</td>\n",
       "      <td>3</td>\n",
       "      <td>0</td>\n",
       "      <td>Corporate Auto</td>\n",
       "      <td>Four-Door Car</td>\n",
       "      <td>male</td>\n",
       "      <td>Bachelor</td>\n",
       "      <td>California</td>\n",
       "      <td>west</td>\n",
       "    </tr>\n",
       "    <tr>\n",
       "      <th>7068</th>\n",
       "      <td>7524</td>\n",
       "      <td>96</td>\n",
       "      <td>691</td>\n",
       "      <td>0</td>\n",
       "      <td>21941</td>\n",
       "      <td>Personal Auto</td>\n",
       "      <td>Four-Door Car</td>\n",
       "      <td>male</td>\n",
       "      <td>College</td>\n",
       "      <td>California</td>\n",
       "      <td>west</td>\n",
       "    </tr>\n",
       "    <tr>\n",
       "      <th>7069</th>\n",
       "      <td>2611</td>\n",
       "      <td>77</td>\n",
       "      <td>369</td>\n",
       "      <td>0</td>\n",
       "      <td>0</td>\n",
       "      <td>Corporate Auto</td>\n",
       "      <td>Two-Door Car</td>\n",
       "      <td>male</td>\n",
       "      <td>College</td>\n",
       "      <td>California</td>\n",
       "      <td>west</td>\n",
       "    </tr>\n",
       "  </tbody>\n",
       "</table>\n",
       "<p>9134 rows × 11 columns</p>\n",
       "</div>"
      ],
      "text/plain": [
       "      customer_lifetime_value  monthly_premium_auto  total_claim_amount  \\\n",
       "0                        7977                  1000                   2   \n",
       "1                        6979                    94                1131   \n",
       "2                       12887                   108                 566   \n",
       "3                        7645                   106                 529   \n",
       "4                        5363                    68                  17   \n",
       "...                       ...                   ...                 ...   \n",
       "7065                    23405                    73                 198   \n",
       "7066                     3096                    79                 379   \n",
       "7067                     8163                    85                 790   \n",
       "7068                     7524                    96                 691   \n",
       "7069                     2611                    77                 369   \n",
       "\n",
       "     number_of_open_complaints  income     policy_type  vehicle_class  gender  \\\n",
       "0                            0       0   Personal Auto  Four-Door Car     ---   \n",
       "1                            0       0   Personal Auto  Four-Door Car  female   \n",
       "2                            0   48767   Personal Auto   Two-Door Car  female   \n",
       "3                            0       0  Corporate Auto            SUV    male   \n",
       "4                            0   36357   Personal Auto  Four-Door Car    male   \n",
       "...                        ...     ...             ...            ...     ...   \n",
       "7065                         0   71941   Personal Auto  Four-Door Car    male   \n",
       "7066                         0   21604  Corporate Auto  Four-Door Car  female   \n",
       "7067                         3       0  Corporate Auto  Four-Door Car    male   \n",
       "7068                         0   21941   Personal Auto  Four-Door Car    male   \n",
       "7069                         0       0  Corporate Auto   Two-Door Car    male   \n",
       "\n",
       "                 education       state    zones  \n",
       "0                   Master  Washington     east  \n",
       "1                 Bachelor     Arizona  central  \n",
       "2                 Bachelor      Nevada  central  \n",
       "3                 Bachelor  California     west  \n",
       "4     High School or Below  Washington     east  \n",
       "...                    ...         ...      ...  \n",
       "7065              Bachelor  California     west  \n",
       "7066               College  California     west  \n",
       "7067              Bachelor  California     west  \n",
       "7068               College  California     west  \n",
       "7069               College  California     west  \n",
       "\n",
       "[9134 rows x 11 columns]"
      ]
     },
     "execution_count": 251,
     "metadata": {},
     "output_type": "execute_result"
    }
   ],
   "source": [
    "combined_df\n"
   ]
  },
  {
   "cell_type": "code",
   "execution_count": 252,
   "id": "b9603590",
   "metadata": {},
   "outputs": [
    {
     "name": "stdout",
     "output_type": "stream",
     "text": [
      "Numerical columns in DataFrame: \n",
      " + customer_lifetime_value\n",
      " + monthly_premium_auto\n",
      " + total_claim_amount\n",
      " + income\n",
      "\n",
      "Catregorical columns in DataFrame:\n",
      " + number_of_open_complaints\n",
      " + policy_type\n",
      " + vehicle_class\n",
      " + gender\n",
      " + education\n",
      " + state\n",
      " + zones\n"
     ]
    }
   ],
   "source": [
    "# print numerical and categorical columns\n",
    "display_cat_num_columns(combined_df)"
   ]
  },
  {
   "cell_type": "code",
   "execution_count": 253,
   "id": "a5c5c22f",
   "metadata": {},
   "outputs": [],
   "source": []
  },
  {
   "cell_type": "code",
   "execution_count": 218,
   "id": "f3fee6ae",
   "metadata": {},
   "outputs": [
    {
     "data": {
      "text/html": [
       "<div>\n",
       "<style scoped>\n",
       "    .dataframe tbody tr th:only-of-type {\n",
       "        vertical-align: middle;\n",
       "    }\n",
       "\n",
       "    .dataframe tbody tr th {\n",
       "        vertical-align: top;\n",
       "    }\n",
       "\n",
       "    .dataframe thead th {\n",
       "        text-align: right;\n",
       "    }\n",
       "</style>\n",
       "<table border=\"1\" class=\"dataframe\">\n",
       "  <thead>\n",
       "    <tr style=\"text-align: right;\">\n",
       "      <th></th>\n",
       "      <th>customer_lifetime_value</th>\n",
       "      <th>monthly_premium_auto</th>\n",
       "      <th>total_claim_amount</th>\n",
       "      <th>income</th>\n",
       "    </tr>\n",
       "  </thead>\n",
       "  <tbody>\n",
       "    <tr>\n",
       "      <th>count</th>\n",
       "      <td>9134.000000</td>\n",
       "      <td>9134.000000</td>\n",
       "      <td>9134.000000</td>\n",
       "      <td>9134.000000</td>\n",
       "    </tr>\n",
       "    <tr>\n",
       "      <th>mean</th>\n",
       "      <td>7977.328005</td>\n",
       "      <td>110.393146</td>\n",
       "      <td>430.480412</td>\n",
       "      <td>37824.847055</td>\n",
       "    </tr>\n",
       "    <tr>\n",
       "      <th>std</th>\n",
       "      <td>6807.580371</td>\n",
       "      <td>581.471461</td>\n",
       "      <td>289.617985</td>\n",
       "      <td>30359.232933</td>\n",
       "    </tr>\n",
       "    <tr>\n",
       "      <th>min</th>\n",
       "      <td>1898.000000</td>\n",
       "      <td>61.000000</td>\n",
       "      <td>0.099007</td>\n",
       "      <td>0.000000</td>\n",
       "    </tr>\n",
       "    <tr>\n",
       "      <th>25%</th>\n",
       "      <td>3981.250000</td>\n",
       "      <td>68.000000</td>\n",
       "      <td>266.961153</td>\n",
       "      <td>0.000000</td>\n",
       "    </tr>\n",
       "    <tr>\n",
       "      <th>50%</th>\n",
       "      <td>5768.000000</td>\n",
       "      <td>83.000000</td>\n",
       "      <td>377.505619</td>\n",
       "      <td>34240.000000</td>\n",
       "    </tr>\n",
       "    <tr>\n",
       "      <th>75%</th>\n",
       "      <td>8928.500000</td>\n",
       "      <td>109.000000</td>\n",
       "      <td>546.050821</td>\n",
       "      <td>62446.500000</td>\n",
       "    </tr>\n",
       "    <tr>\n",
       "      <th>max</th>\n",
       "      <td>83325.000000</td>\n",
       "      <td>35354.000000</td>\n",
       "      <td>2893.239678</td>\n",
       "      <td>99981.000000</td>\n",
       "    </tr>\n",
       "  </tbody>\n",
       "</table>\n",
       "</div>"
      ],
      "text/plain": [
       "       customer_lifetime_value  monthly_premium_auto  total_claim_amount  \\\n",
       "count              9134.000000           9134.000000         9134.000000   \n",
       "mean               7977.328005            110.393146          430.480412   \n",
       "std                6807.580371            581.471461          289.617985   \n",
       "min                1898.000000             61.000000            0.099007   \n",
       "25%                3981.250000             68.000000          266.961153   \n",
       "50%                5768.000000             83.000000          377.505619   \n",
       "75%                8928.500000            109.000000          546.050821   \n",
       "max               83325.000000          35354.000000         2893.239678   \n",
       "\n",
       "             income  \n",
       "count   9134.000000  \n",
       "mean   37824.847055  \n",
       "std    30359.232933  \n",
       "min        0.000000  \n",
       "25%        0.000000  \n",
       "50%    34240.000000  \n",
       "75%    62446.500000  \n",
       "max    99981.000000  "
      ]
     },
     "execution_count": 218,
     "metadata": {},
     "output_type": "execute_result"
    }
   ],
   "source": [
    "combined_df.describe()"
   ]
  },
  {
   "cell_type": "code",
   "execution_count": null,
   "id": "62ec7174",
   "metadata": {},
   "outputs": [],
   "source": []
  },
  {
   "cell_type": "code",
   "execution_count": null,
   "id": "16796e81",
   "metadata": {},
   "outputs": [],
   "source": []
  },
  {
   "cell_type": "code",
   "execution_count": 259,
   "id": "54fe7a32",
   "metadata": {},
   "outputs": [],
   "source": []
  },
  {
   "cell_type": "code",
   "execution_count": null,
   "id": "8e930514",
   "metadata": {},
   "outputs": [],
   "source": []
  },
  {
   "cell_type": "code",
   "execution_count": null,
   "id": "9568edf5",
   "metadata": {},
   "outputs": [],
   "source": []
  },
  {
   "cell_type": "code",
   "execution_count": null,
   "id": "fbbbdc8c",
   "metadata": {},
   "outputs": [],
   "source": [
    "### old code kept for later evaluation (probably trashing ;) ###"
   ]
  },
  {
   "cell_type": "code",
   "execution_count": null,
   "id": "8902c5df",
   "metadata": {},
   "outputs": [],
   "source": [
    "def columns_float_to_int(this_df):\n",
    "    \"\"\"checks dtype of all columns in df and if numeric turns it into int\"\"\"\n",
    "    for col in this_df.columns:\n",
    "        if np.issubdtype(this_df[col].dtype, np.number):\n",
    "            this_df[col] = list(map(float_to_int,(this_df[col])))\n",
    "    return this_df"
   ]
  },
  {
   "cell_type": "code",
   "execution_count": 228,
   "id": "c75e0474",
   "metadata": {},
   "outputs": [],
   "source": [
    "# Bucketing the data - Write a function to replace column \"State\" to different zones. California as West Region, Oregon as North West, and Washington as East, and Arizona and Nevada as Central\n",
    "# California    3032 west\n",
    "# Oregon        2601 northwest\n",
    "# Arizona       1630 central\n",
    "# Nevada         882 central\n",
    "# Washington     768 east\n",
    "# Cali           120 west\n",
    "# AZ              74 central\n",
    "# WA              30 east\n",
    "\n",
    "def states_to_zones(state:[str]):\n",
    "    if state[:4].lower() == \"cali\":\n",
    "        return \"west\"\n",
    "    elif state[:4].lower() == \"oreg\":\n",
    "        return \"north west\"\n",
    "    elif state[:2].lower() == \"wa\":\n",
    "        return \"east\"\n",
    "    else:\n",
    "        return \"central\""
   ]
  }
 ],
 "metadata": {
  "kernelspec": {
   "display_name": "Python 3 (ipykernel)",
   "language": "python",
   "name": "python3"
  },
  "language_info": {
   "codemirror_mode": {
    "name": "ipython",
    "version": 3
   },
   "file_extension": ".py",
   "mimetype": "text/x-python",
   "name": "python",
   "nbconvert_exporter": "python",
   "pygments_lexer": "ipython3",
   "version": "3.9.7"
  }
 },
 "nbformat": 4,
 "nbformat_minor": 5
}
