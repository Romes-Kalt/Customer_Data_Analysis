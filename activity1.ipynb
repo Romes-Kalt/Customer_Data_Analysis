{
 "cells": [
  {
   "cell_type": "code",
   "execution_count": 1,
   "id": "3c9939ff",
   "metadata": {},
   "outputs": [],
   "source": [
    "import numpy as np\n",
    "import pandas as pd\n",
    "import matplotlib.pyplot as plt\n",
    "%matplotlib inline\n",
    "import seaborn as sns\n",
    "# from sklearn.preprocessing import StandardScaler\n",
    "# from sklearn.preprocessing import minmax_scale\n",
    "# from sklearn.preprocessing import OneHotEncoder\n",
    "# from sklearn.linear_model import LinearRegression\n",
    "# from sklearn.model_selection import train_test_split\n",
    "# from sklearn.preprocessing import PowerTransformer\n",
    "# from sklearn.linear_model import LinearRegression\n",
    "# import statsmodels.api as sm\n",
    "# from scipy.stats import boxcox\n",
    "# from sklearn.model_selection import train_test_split\n",
    "# from sklearn.metrics import r2_score\n",
    "# from sklearn.metrics import mean_squared_error as mse\n",
    "# from sklearn.metrics import mean_absolute_error as mae\n",
    "pd.options.display.max_rows = 50\n",
    "import openpyxl\n",
    "import xlrd\n"
   ]
  },
  {
   "cell_type": "code",
   "execution_count": 113,
   "id": "a505ae5d",
   "metadata": {},
   "outputs": [],
   "source": [
    "def st_to_state(this_df):\n",
    "    \"\"\"checks, if there is a column named ST and changes it to state\"\"\"\n",
    "    if \"ST\" in list(this_df.columns) or \"State\" in list(this_df.columns):\n",
    "        this_df.rename(columns={\"ST\":\"state\", \"State\":\"state\"}, inplace=True)\n",
    "    return this_df"
   ]
  },
  {
   "cell_type": "code",
   "execution_count": 114,
   "id": "904aeded",
   "metadata": {},
   "outputs": [],
   "source": [
    "def lowercase_underscore_column_names(this_df):\n",
    "    \"\"\"changes all columnnames to underscore and replace space with underscore\"\"\"\n",
    "    for col in this_df.columns:\n",
    "        this_df.rename(columns={col:col.lower().replace(\" \", \"_\")}, inplace=True)\n",
    "    return this_df"
   ]
  },
  {
   "cell_type": "code",
   "execution_count": 115,
   "id": "e1712592",
   "metadata": {},
   "outputs": [],
   "source": [
    "def gender_generalize(gender:[str]):\n",
    "    \"\"\"changes the genders to female if f in str, else male. if gender = nan returns ---\"\"\"\n",
    "    if type(gender) != str:\n",
    "        return \"---\"\n",
    "    if \"f\" in gender.lower():\n",
    "        return \"female\"\n",
    "    else:\n",
    "        return \"male\""
   ]
  },
  {
   "cell_type": "code",
   "execution_count": 116,
   "id": "9dd3b9ab",
   "metadata": {},
   "outputs": [],
   "source": [
    "def correct_open_complaints(value):\n",
    "    \"\"\"the number of open complaints has in some cases the structure 1/0/00, where only the middle number is interesting.\n",
    "       if value has this format, only the middle value is returned as int\"\"\"\n",
    "    if \"/\" in str(value):\n",
    "        return int(value.split(\"/\")[1])\n",
    "    else:\n",
    "        return int(value)"
   ]
  },
  {
   "cell_type": "code",
   "execution_count": 117,
   "id": "753ee06d",
   "metadata": {},
   "outputs": [],
   "source": [
    "def clean_cust_lifetime_value(value):\n",
    "    \"\"\"takes a value and checks, whether a % sign is in it, in that case returns \"\"\"\n",
    "    if \"%\" in str(value):\n",
    "        return float(value.replace(\"%\",\"\"))/100\n",
    "    else:\n",
    "        return float(value)\n",
    "    "
   ]
  },
  {
   "cell_type": "code",
   "execution_count": 118,
   "id": "e8438316",
   "metadata": {},
   "outputs": [],
   "source": [
    "# https://www.50states.com/abbreviations.htm\n",
    "def states_to_zones_flex(state:[str]):\n",
    "    \"\"\"takes state in str format and returns zone according to zones_dict\"\"\"\n",
    "    # add / change as required\n",
    "    zones_dict = {\n",
    "        \"east\": [\"wa\", \"washington\"],\n",
    "        \"central\": [\"nevada\", \"arizona\", \"nv\", \"az\"],\n",
    "        \"west\": [\"california\", \"cali\", \"ca\"],\n",
    "        \"northwest\": [\"oregon\", \"oreg\", \"or\"],\n",
    "    }\n",
    "    state = state.lower()\n",
    "    for zone in zones_dict.items():\n",
    "        if state in zone[1]:\n",
    "            return zone[0]\n",
    "    return None\n"
   ]
  },
  {
   "cell_type": "code",
   "execution_count": 119,
   "id": "8a770a51",
   "metadata": {},
   "outputs": [],
   "source": [
    "def float_to_int(x):\n",
    "    \"\"\"returns int of x or nan if x == nan\"\"\"\n",
    "    if str(x).lower() != \"nan\":\n",
    "        return int(float(x))\n",
    "    else:\n",
    "        return \"nan\""
   ]
  },
  {
   "cell_type": "code",
   "execution_count": 120,
   "id": "b63c6cde",
   "metadata": {},
   "outputs": [],
   "source": [
    "def columns_float_to_int(this_df):\n",
    "    \"\"\"checks dtype of all columns in df and if numeric turns it into int\"\"\"\n",
    "    for col in this_df.columns:\n",
    "        if np.issubdtype(this_df[col].dtype, np.number):\n",
    "            this_df[col] = list(map(float_to_int,(this_df[col])))\n",
    "    return this_df"
   ]
  },
  {
   "cell_type": "code",
   "execution_count": 145,
   "id": "2d29f2e7",
   "metadata": {},
   "outputs": [],
   "source": [
    "def display_cat_num_columns(this_df):\n",
    "    col_dict = {\"categorical\":[], \"numerical\":[]}\n",
    "    for _ in this_df.columns:\n",
    "        if _ in this_df.select_dtypes(\"object\").columns:\n",
    "            col_dict[\"categorical\"].append(_)\n",
    "        else:\n",
    "            col_dict[\"numerical\"].append(_)\n",
    "    print(col_dict)"
   ]
  },
  {
   "cell_type": "code",
   "execution_count": 146,
   "id": "f68feaaa",
   "metadata": {},
   "outputs": [
    {
     "name": "stdout",
     "output_type": "stream",
     "text": [
      "{'categorical': ['customer_lifetime_value', 'monthly_premium_auto', 'total_claim_amount', 'number_of_open_complaints', 'income', 'policy_type', 'vehicle_class', 'gender', 'education', 'state', 'zones'], 'numerical': []}\n"
     ]
    }
   ],
   "source": [
    "display_cat_num_columns(combined_df)"
   ]
  },
  {
   "cell_type": "code",
   "execution_count": 123,
   "id": "37f097c5",
   "metadata": {},
   "outputs": [],
   "source": [
    "# helper function, no real purpose\n",
    "def all_columns_in_file1_to_3():\n",
    "    \"\"\"ONLY FOR THIS PROJECT: sort and print all columns next to each other to see difference in the names.\n",
    "       Print True or False if set(all_columns) == set(file1_df.columns)\"\"\"\n",
    "    all_columns = sorted(file1_df.columns) + sorted(file2_df.columns) + sorted(file3_df.columns)\n",
    "    for _ in range(0,11):\n",
    "        print(all_columns[_], all_columns[_+11], all_columns[_+22])\n",
    "    print(\"\\nThe length of the set(all_columns) is equal to length of columns in one df:\",len(set(all_columns))==len(file1_df.columns))"
   ]
  },
  {
   "cell_type": "code",
   "execution_count": 124,
   "id": "9f8dd3f3",
   "metadata": {},
   "outputs": [],
   "source": [
    "file1_df = pd.read_csv(\"C:/Users/roman/Documents/GitHub/Customer_Data_Analysis/Data/file1.csv\")\n",
    "# file1_df"
   ]
  },
  {
   "cell_type": "code",
   "execution_count": 125,
   "id": "1854ab0b",
   "metadata": {},
   "outputs": [],
   "source": [
    "file2_df = pd.read_csv(\"C:/Users/roman/Documents/GitHub/Customer_Data_Analysis/Data/file2.csv\")\n",
    "# file2_df"
   ]
  },
  {
   "cell_type": "code",
   "execution_count": 126,
   "id": "e555c7f2",
   "metadata": {},
   "outputs": [],
   "source": [
    "file3_df = pd.read_csv(\"C:/Users/roman/Documents/GitHub/Customer_Data_Analysis/Data/file3.csv\")\n",
    "# file3_df"
   ]
  },
  {
   "cell_type": "code",
   "execution_count": 127,
   "id": "fb8238ca",
   "metadata": {},
   "outputs": [
    {
     "name": "stdout",
     "output_type": "stream",
     "text": [
      "Customer Customer Customer\n",
      "Customer Lifetime Value Customer Lifetime Value Customer Lifetime Value\n",
      "Education Education Education\n",
      "GENDER GENDER Gender\n",
      "Income Income Income\n",
      "Monthly Premium Auto Monthly Premium Auto Monthly Premium Auto\n",
      "Number of Open Complaints Number of Open Complaints Number of Open Complaints\n",
      "Policy Type Policy Type Policy Type\n",
      "ST ST State\n",
      "Total Claim Amount Total Claim Amount Total Claim Amount\n",
      "Vehicle Class Vehicle Class Vehicle Class\n",
      "\n",
      "The length of the set(all_columns) is equal to length of columns in one df: False\n"
     ]
    }
   ],
   "source": [
    "# gathering info on columns\n",
    "all_columns_in_file1_to_3()"
   ]
  },
  {
   "cell_type": "code",
   "execution_count": 128,
   "id": "1e441608",
   "metadata": {},
   "outputs": [],
   "source": [
    "# change st to state if applicable\n",
    "file1_df = st_to_state(file1_df)\n",
    "file2_df = st_to_state(file2_df)\n",
    "file3_df = st_to_state(file3_df)\n"
   ]
  },
  {
   "cell_type": "code",
   "execution_count": 129,
   "id": "35292f32",
   "metadata": {},
   "outputs": [],
   "source": [
    "# replace space with underscore and use only lower case\n",
    "file1_df = lowercase_underscore_column_names(file1_df)\n",
    "file2_df = lowercase_underscore_column_names(file2_df)\n",
    "file3_df = lowercase_underscore_column_names(file3_df)"
   ]
  },
  {
   "cell_type": "code",
   "execution_count": 130,
   "id": "667b1df4",
   "metadata": {},
   "outputs": [
    {
     "name": "stdout",
     "output_type": "stream",
     "text": [
      "customer customer customer\n",
      "customer_lifetime_value customer_lifetime_value customer_lifetime_value\n",
      "education education education\n",
      "gender gender gender\n",
      "income income income\n",
      "monthly_premium_auto monthly_premium_auto monthly_premium_auto\n",
      "number_of_open_complaints number_of_open_complaints number_of_open_complaints\n",
      "policy_type policy_type policy_type\n",
      "state state state\n",
      "total_claim_amount total_claim_amount total_claim_amount\n",
      "vehicle_class vehicle_class vehicle_class\n",
      "\n",
      "The length of the set(all_columns) is equal to length of columns in one df: True\n"
     ]
    }
   ],
   "source": [
    "# checking for inacurracies\n",
    "all_columns_in_file1_to_3()\n"
   ]
  },
  {
   "cell_type": "code",
   "execution_count": 131,
   "id": "8e9ec896",
   "metadata": {},
   "outputs": [],
   "source": [
    "# combine all file_df's, delete empty rows and drop duplicates\n",
    "combined_df = pd.concat([file1_df,file2_df,file3_df], axis=0)\n",
    "combined_df.dropna(axis = 0, how = 'all', inplace = True)      # delete empty rows\n",
    "combined_df.drop_duplicates(inplace=True)     \n",
    "# combined_df.drop(columns=[\"customer\"], inplace=True)\n",
    "# combined_df"
   ]
  },
  {
   "cell_type": "code",
   "execution_count": 132,
   "id": "43289a26",
   "metadata": {},
   "outputs": [],
   "source": [
    "# re-arrange column order (\"drop customer\")\n",
    "combined_df = combined_df[[\"customer_lifetime_value\", \"monthly_premium_auto\", \"total_claim_amount\", \"number_of_open_complaints\", \"income\", \"policy_type\", \"vehicle_class\", \"gender\", \"education\", \"state\"]]"
   ]
  },
  {
   "cell_type": "code",
   "execution_count": null,
   "id": "8f8da51e",
   "metadata": {},
   "outputs": [],
   "source": []
  },
  {
   "cell_type": "code",
   "execution_count": 133,
   "id": "c7a2311e",
   "metadata": {},
   "outputs": [],
   "source": [
    "# change gender to female / male\n",
    "combined_df[\"gender\"] = list(map(gender_generalize,combined_df[\"gender\"]))\n"
   ]
  },
  {
   "cell_type": "code",
   "execution_count": 134,
   "id": "56e44785",
   "metadata": {},
   "outputs": [],
   "source": [
    "# clean cls from %\n",
    "combined_df[\"customer_lifetime_value\"] = list(map(clean_cust_lifetime_value,(combined_df[\"customer_lifetime_value\"])))"
   ]
  },
  {
   "cell_type": "code",
   "execution_count": 135,
   "id": "c48cdbc8",
   "metadata": {},
   "outputs": [],
   "source": [
    "# correct number of open complaints\n",
    "combined_df[\"number_of_open_complaints\"] = list(map(correct_open_complaints,(combined_df[\"number_of_open_complaints\"])))"
   ]
  },
  {
   "cell_type": "code",
   "execution_count": 136,
   "id": "cdd0f7ae",
   "metadata": {},
   "outputs": [],
   "source": [
    "# create new column zones according to state\n",
    "combined_df[\"zones\"] = list(map(states_to_zones_flex,(combined_df[\"state\"])))"
   ]
  },
  {
   "cell_type": "code",
   "execution_count": 139,
   "id": "d6baecc3",
   "metadata": {},
   "outputs": [],
   "source": [
    "# change all numeric values to int\n",
    "combined_df = columns_float_to_int(combined_df)"
   ]
  },
  {
   "cell_type": "code",
   "execution_count": 138,
   "id": "e41599c4",
   "metadata": {},
   "outputs": [],
   "source": [
    "# all lower strings in df\n",
    "combined_df = combined_df.apply(lambda x: x.astype(str).str.lower())"
   ]
  },
  {
   "cell_type": "code",
   "execution_count": null,
   "id": "c5e86d9e",
   "metadata": {},
   "outputs": [],
   "source": []
  },
  {
   "cell_type": "code",
   "execution_count": 140,
   "id": "63000b8d",
   "metadata": {},
   "outputs": [
    {
     "data": {
      "text/html": [
       "<div>\n",
       "<style scoped>\n",
       "    .dataframe tbody tr th:only-of-type {\n",
       "        vertical-align: middle;\n",
       "    }\n",
       "\n",
       "    .dataframe tbody tr th {\n",
       "        vertical-align: top;\n",
       "    }\n",
       "\n",
       "    .dataframe thead th {\n",
       "        text-align: right;\n",
       "    }\n",
       "</style>\n",
       "<table border=\"1\" class=\"dataframe\">\n",
       "  <thead>\n",
       "    <tr style=\"text-align: right;\">\n",
       "      <th></th>\n",
       "      <th>customer_lifetime_value</th>\n",
       "      <th>monthly_premium_auto</th>\n",
       "      <th>total_claim_amount</th>\n",
       "      <th>number_of_open_complaints</th>\n",
       "      <th>income</th>\n",
       "      <th>policy_type</th>\n",
       "      <th>vehicle_class</th>\n",
       "      <th>gender</th>\n",
       "      <th>education</th>\n",
       "      <th>state</th>\n",
       "      <th>zones</th>\n",
       "    </tr>\n",
       "  </thead>\n",
       "  <tbody>\n",
       "    <tr>\n",
       "      <th>0</th>\n",
       "      <td>nan</td>\n",
       "      <td>1000</td>\n",
       "      <td>2</td>\n",
       "      <td>0</td>\n",
       "      <td>0</td>\n",
       "      <td>personal auto</td>\n",
       "      <td>four-door car</td>\n",
       "      <td>---</td>\n",
       "      <td>master</td>\n",
       "      <td>washington</td>\n",
       "      <td>east</td>\n",
       "    </tr>\n",
       "    <tr>\n",
       "      <th>1</th>\n",
       "      <td>6979</td>\n",
       "      <td>94</td>\n",
       "      <td>1131</td>\n",
       "      <td>0</td>\n",
       "      <td>0</td>\n",
       "      <td>personal auto</td>\n",
       "      <td>four-door car</td>\n",
       "      <td>female</td>\n",
       "      <td>bachelor</td>\n",
       "      <td>arizona</td>\n",
       "      <td>central</td>\n",
       "    </tr>\n",
       "    <tr>\n",
       "      <th>2</th>\n",
       "      <td>12887</td>\n",
       "      <td>108</td>\n",
       "      <td>566</td>\n",
       "      <td>0</td>\n",
       "      <td>48767</td>\n",
       "      <td>personal auto</td>\n",
       "      <td>two-door car</td>\n",
       "      <td>female</td>\n",
       "      <td>bachelor</td>\n",
       "      <td>nevada</td>\n",
       "      <td>central</td>\n",
       "    </tr>\n",
       "    <tr>\n",
       "      <th>3</th>\n",
       "      <td>7645</td>\n",
       "      <td>106</td>\n",
       "      <td>529</td>\n",
       "      <td>0</td>\n",
       "      <td>0</td>\n",
       "      <td>corporate auto</td>\n",
       "      <td>suv</td>\n",
       "      <td>male</td>\n",
       "      <td>bachelor</td>\n",
       "      <td>california</td>\n",
       "      <td>west</td>\n",
       "    </tr>\n",
       "    <tr>\n",
       "      <th>4</th>\n",
       "      <td>5363</td>\n",
       "      <td>68</td>\n",
       "      <td>17</td>\n",
       "      <td>0</td>\n",
       "      <td>36357</td>\n",
       "      <td>personal auto</td>\n",
       "      <td>four-door car</td>\n",
       "      <td>male</td>\n",
       "      <td>high school or below</td>\n",
       "      <td>washington</td>\n",
       "      <td>east</td>\n",
       "    </tr>\n",
       "    <tr>\n",
       "      <th>...</th>\n",
       "      <td>...</td>\n",
       "      <td>...</td>\n",
       "      <td>...</td>\n",
       "      <td>...</td>\n",
       "      <td>...</td>\n",
       "      <td>...</td>\n",
       "      <td>...</td>\n",
       "      <td>...</td>\n",
       "      <td>...</td>\n",
       "      <td>...</td>\n",
       "      <td>...</td>\n",
       "    </tr>\n",
       "    <tr>\n",
       "      <th>7065</th>\n",
       "      <td>23405</td>\n",
       "      <td>73</td>\n",
       "      <td>198</td>\n",
       "      <td>0</td>\n",
       "      <td>71941</td>\n",
       "      <td>personal auto</td>\n",
       "      <td>four-door car</td>\n",
       "      <td>male</td>\n",
       "      <td>bachelor</td>\n",
       "      <td>california</td>\n",
       "      <td>west</td>\n",
       "    </tr>\n",
       "    <tr>\n",
       "      <th>7066</th>\n",
       "      <td>3096</td>\n",
       "      <td>79</td>\n",
       "      <td>379</td>\n",
       "      <td>0</td>\n",
       "      <td>21604</td>\n",
       "      <td>corporate auto</td>\n",
       "      <td>four-door car</td>\n",
       "      <td>female</td>\n",
       "      <td>college</td>\n",
       "      <td>california</td>\n",
       "      <td>west</td>\n",
       "    </tr>\n",
       "    <tr>\n",
       "      <th>7067</th>\n",
       "      <td>8163</td>\n",
       "      <td>85</td>\n",
       "      <td>790</td>\n",
       "      <td>3</td>\n",
       "      <td>0</td>\n",
       "      <td>corporate auto</td>\n",
       "      <td>four-door car</td>\n",
       "      <td>male</td>\n",
       "      <td>bachelor</td>\n",
       "      <td>california</td>\n",
       "      <td>west</td>\n",
       "    </tr>\n",
       "    <tr>\n",
       "      <th>7068</th>\n",
       "      <td>7524</td>\n",
       "      <td>96</td>\n",
       "      <td>691</td>\n",
       "      <td>0</td>\n",
       "      <td>21941</td>\n",
       "      <td>personal auto</td>\n",
       "      <td>four-door car</td>\n",
       "      <td>male</td>\n",
       "      <td>college</td>\n",
       "      <td>california</td>\n",
       "      <td>west</td>\n",
       "    </tr>\n",
       "    <tr>\n",
       "      <th>7069</th>\n",
       "      <td>2611</td>\n",
       "      <td>77</td>\n",
       "      <td>369</td>\n",
       "      <td>0</td>\n",
       "      <td>0</td>\n",
       "      <td>corporate auto</td>\n",
       "      <td>two-door car</td>\n",
       "      <td>male</td>\n",
       "      <td>college</td>\n",
       "      <td>california</td>\n",
       "      <td>west</td>\n",
       "    </tr>\n",
       "  </tbody>\n",
       "</table>\n",
       "<p>9134 rows × 11 columns</p>\n",
       "</div>"
      ],
      "text/plain": [
       "     customer_lifetime_value monthly_premium_auto total_claim_amount  \\\n",
       "0                        nan                 1000                  2   \n",
       "1                       6979                   94               1131   \n",
       "2                      12887                  108                566   \n",
       "3                       7645                  106                529   \n",
       "4                       5363                   68                 17   \n",
       "...                      ...                  ...                ...   \n",
       "7065                   23405                   73                198   \n",
       "7066                    3096                   79                379   \n",
       "7067                    8163                   85                790   \n",
       "7068                    7524                   96                691   \n",
       "7069                    2611                   77                369   \n",
       "\n",
       "     number_of_open_complaints income     policy_type  vehicle_class  gender  \\\n",
       "0                            0      0   personal auto  four-door car     ---   \n",
       "1                            0      0   personal auto  four-door car  female   \n",
       "2                            0  48767   personal auto   two-door car  female   \n",
       "3                            0      0  corporate auto            suv    male   \n",
       "4                            0  36357   personal auto  four-door car    male   \n",
       "...                        ...    ...             ...            ...     ...   \n",
       "7065                         0  71941   personal auto  four-door car    male   \n",
       "7066                         0  21604  corporate auto  four-door car  female   \n",
       "7067                         3      0  corporate auto  four-door car    male   \n",
       "7068                         0  21941   personal auto  four-door car    male   \n",
       "7069                         0      0  corporate auto   two-door car    male   \n",
       "\n",
       "                 education       state    zones  \n",
       "0                   master  washington     east  \n",
       "1                 bachelor     arizona  central  \n",
       "2                 bachelor      nevada  central  \n",
       "3                 bachelor  california     west  \n",
       "4     high school or below  washington     east  \n",
       "...                    ...         ...      ...  \n",
       "7065              bachelor  california     west  \n",
       "7066               college  california     west  \n",
       "7067              bachelor  california     west  \n",
       "7068               college  california     west  \n",
       "7069               college  california     west  \n",
       "\n",
       "[9134 rows x 11 columns]"
      ]
     },
     "execution_count": 140,
     "metadata": {},
     "output_type": "execute_result"
    }
   ],
   "source": [
    "combined_df\n"
   ]
  },
  {
   "cell_type": "code",
   "execution_count": null,
   "id": "dc4854fe",
   "metadata": {},
   "outputs": [],
   "source": []
  },
  {
   "cell_type": "code",
   "execution_count": 236,
   "id": "32bc5faa",
   "metadata": {},
   "outputs": [],
   "source": [
    "#### END ###"
   ]
  },
  {
   "cell_type": "code",
   "execution_count": null,
   "id": "d08bee8e",
   "metadata": {},
   "outputs": [],
   "source": []
  },
  {
   "cell_type": "code",
   "execution_count": null,
   "id": "8ab7e1b0",
   "metadata": {},
   "outputs": [],
   "source": []
  },
  {
   "cell_type": "code",
   "execution_count": null,
   "id": "dd5a0cf3",
   "metadata": {},
   "outputs": [],
   "source": []
  },
  {
   "cell_type": "code",
   "execution_count": null,
   "id": "7f96977a",
   "metadata": {},
   "outputs": [],
   "source": []
  },
  {
   "cell_type": "code",
   "execution_count": null,
   "id": "ab3c0f48",
   "metadata": {},
   "outputs": [],
   "source": []
  },
  {
   "cell_type": "code",
   "execution_count": null,
   "id": "0cfbbcf9",
   "metadata": {},
   "outputs": [],
   "source": []
  },
  {
   "cell_type": "code",
   "execution_count": null,
   "id": "d5f3b561",
   "metadata": {},
   "outputs": [],
   "source": []
  },
  {
   "cell_type": "code",
   "execution_count": null,
   "id": "55f52641",
   "metadata": {},
   "outputs": [],
   "source": []
  },
  {
   "cell_type": "code",
   "execution_count": 238,
   "id": "eee3b5f6",
   "metadata": {},
   "outputs": [],
   "source": [
    "# Bucketing the data - Write a function to replace column \"State\" to different zones. California as West Region, Oregon as North West, and Washington as East, and Arizona and Nevada as Central\n",
    "# California    3032 west\n",
    "# Oregon        2601 northwest\n",
    "# Arizona       1630 central\n",
    "# Nevada         882 central\n",
    "# Washington     768 east\n",
    "# Cali           120 west\n",
    "# AZ              74 central\n",
    "# WA              30 east\n",
    "\n",
    "def states_to_zones(state:[str]):\n",
    "    if state[:4].lower() == \"cali\":\n",
    "        return \"west\"\n",
    "    elif state[:4].lower() == \"oreg\":\n",
    "        return \"north west\"\n",
    "    elif state[:2].lower() == \"wa\":\n",
    "        return \"east\"\n",
    "    else:\n",
    "        return \"central\""
   ]
  }
 ],
 "metadata": {
  "kernelspec": {
   "display_name": "Python 3 (ipykernel)",
   "language": "python",
   "name": "python3"
  },
  "language_info": {
   "codemirror_mode": {
    "name": "ipython",
    "version": 3
   },
   "file_extension": ".py",
   "mimetype": "text/x-python",
   "name": "python",
   "nbconvert_exporter": "python",
   "pygments_lexer": "ipython3",
   "version": "3.9.7"
  }
 },
 "nbformat": 4,
 "nbformat_minor": 5
}
